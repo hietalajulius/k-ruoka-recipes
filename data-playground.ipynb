{
 "cells": [
  {
   "cell_type": "code",
   "execution_count": 5,
   "metadata": {},
   "outputs": [],
   "source": [
    "from requests.auth import AuthBase\n",
    "import json\n",
    "\n",
    "key = 'your key'\n",
    "\n",
    "class KAuth(AuthBase):\n",
    "    def __init__(self, key):\n",
    "        # setup any auth-related data here\n",
    "        self.key = key\n",
    "\n",
    "    def __call__(self, r):\n",
    "        # modify and return the request\n",
    "        r.headers['Ocp-Apim-Subscription-Key'] = self.key\n",
    "        r.headers['Content-Type'] = 'application/json'\n",
    "        return r"
   ]
  },
  {
   "cell_type": "code",
   "execution_count": 198,
   "metadata": {},
   "outputs": [],
   "source": [
    "def get_recipe(recipe_id):\n",
    "    recipe_url = 'https://kesko.azure-api.net/v1/search/recipes'\n",
    "    body = {'filters' : {'mainCategory': '4', 'subCategory': '28'}}\n",
    "    recipes_response = requests.post(recipe_url, json=body, auth=KAuth(key))\n",
    "    recipes_response_text = recipes_response.text\n",
    "    recipes_response_json = json.loads(recipes_response_text)\n",
    "    recipe = recipes_response_json['results'][recipe_id]\n",
    "    name = recipe['Name']\n",
    "    instructions = recipe['Instructions']\n",
    "    ingredients = recipe['Ingredients'][0]['SubSectionIngredients']\n",
    "    image = recipe['PictureUrls'][0]['Normal']\n",
    "    return name, ingredients, instructions, image\n",
    "    \n",
    "def parse_ingredients(ingredients):\n",
    "    parsed_ingredients = []\n",
    "    for ingredient in ingredients:\n",
    "        parsed_ingredient = {}\n",
    "        parsed_ingredient['name'] = ingredient[0]['IngredientTypeName']\n",
    "        parsed_ingredient['amount'] = ingredient[0]['Amount']\n",
    "        parsed_ingredient['unit'] = ingredient[0]['Unit']\n",
    "        parsed_ingredient['type'] = ingredient[0]['IngredientType']\n",
    "        parsed_ingredients.append(parsed_ingredient)\n",
    "    return parsed_ingredients\n",
    "    \n",
    "def get_items_for_item_type(item_type):\n",
    "    products_url = 'https://kesko.azure-api.net/v1/search/products'\n",
    "    body = {'filters' : {'ingredientType': item_type}}\n",
    "    items_response = requests.post(products_url, json=body, auth=KAuth(key))\n",
    "    items_json = json.loads(items_response.text)\n",
    "    return items_json['results']\n",
    "\n",
    "def parse_items(items):\n",
    "    parsed_items = []\n",
    "    for item in items:\n",
    "        parsed_item = {}\n",
    "        parsed_item['ean'] = item['ean']\n",
    "        parsed_item['name'] = item['labelName']['english']\n",
    "        parsed_items.append(parsed_item)\n",
    "    return parsed_items\n",
    "\n",
    "def get_stores(zip_code = '00180'):\n",
    "    store_url = 'https://kesko.azure-api.net/v1/search/stores'\n",
    "    body = {'filters' : {'postCode': zip_code}}\n",
    "    stores_response = requests.post(store_url, json=body, auth=KAuth(key))\n",
    "    stores_json = json.loads(stores_response.text)\n",
    "    return stores_json['results']\n",
    "\n",
    "def parse_stores(stores):\n",
    "    parsed_stores = []\n",
    "    for store in stores:\n",
    "        parsed_store = {}\n",
    "        parsed_store['name'] = store['Name']\n",
    "        parsed_store['id'] = store['Id']\n",
    "        parsed_stores.append(parsed_store)\n",
    "    return parsed_stores\n",
    "\n",
    "def check_availability(ean, store):\n",
    "    availability_url = 'https://kesko.azure-api.net/v2/products?ean=' + ean\n",
    "    availability_response = requests.get(availability_url, auth=KAuth(key))\n",
    "    availability_json = json.loads(availability_response.text)\n",
    "    availability_stores = availability_json[0]['stores']\n",
    "    for a_store in availability_stores:\n",
    "        if a_store['id'] == store['id']:\n",
    "            return True\n",
    "    return False\n"
   ]
  },
  {
   "cell_type": "code",
   "execution_count": 202,
   "metadata": {},
   "outputs": [],
   "source": [
    "def get_rich_recipe(zip_code, recipe_id, existing_ingredient_types):\n",
    "    stores = parse_stores(get_stores(zip_code))\n",
    "    recipe_name, recipe_ingredients, recipe_instructions, recipe_image = get_recipe(recipe_id)\n",
    "    parsed_ingredients = parse_ingredients(recipe_ingredients)\n",
    "    rich_ingredients = []\n",
    "    for ingredient in parsed_ingredients:\n",
    "        available = 1\n",
    "        if not ingredient['type'] in existing_ingredient_types:\n",
    "            available = 0\n",
    "            items = parse_items(get_items_for_item_type(ingredient['type']))\n",
    "            for item in items:\n",
    "                for store in stores:\n",
    "                    if check_availability(item['ean'],store):\n",
    "                        available = 1\n",
    "        ingredient['availability'] = available\n",
    "        rich_ingredients.append(ingredient)\n",
    "    return recipe_name, rich_ingredients, recipe_instructions, recipe_image\n",
    "            \n",
    "    "
   ]
  },
  {
   "cell_type": "code",
   "execution_count": 205,
   "metadata": {},
   "outputs": [],
   "source": [
    "a,b,c,d = get_rich_recipe('00180', 1, [])"
   ]
  },
  {
   "cell_type": "code",
   "execution_count": 206,
   "metadata": {},
   "outputs": [
    {
     "name": "stdout",
     "output_type": "stream",
     "text": [
      "Teriyakikana\n",
      "[{'name': 'Soijakastike', 'amount': '1/2', 'unit': 'dl', 'type': '6953', 'availability': 1}, {'name': 'Riisiviinietikka', 'amount': '1/2', 'unit': 'dl', 'type': '6740', 'availability': 0}, {'name': 'Ruokokidesokeri', 'amount': '2', 'unit': 'rkl', 'type': '6795', 'availability': 1}, {'name': 'Valkosipuli, tuore', 'amount': '1', 'unit': '', 'type': '15809', 'availability': 0}, {'name': 'Inkivääri, jauhettu', 'amount': '1', 'unit': 'tl', 'type': '5566', 'availability': 1}, {'name': 'Maissitärkkelysjauho', 'amount': '1', 'unit': 'tl', 'type': '6035', 'availability': 1}]\n",
      "# Mittaa kastikkeen ainekset pieneen kattilaan ja sekoita tasaiseksi kierrevatkaimella. Kuumenna koko ajan sekoittaen, kunnes seos paksuuntuu. Anna kastikkeen jäähtyä.\r\n",
      "# Pyyhi broilereiden pinta talouspaperilla ja pane ne marinoitumaan teriyakikastikkeeseen huoneenlämpöön puoleksi tunniksi ennen paistamista.\r\n",
      "# Paista broilerit kypsiksi öljyssä pannulla. Sivele fileille marinadia paistamisen aikana. Viipaloi kypsät broilerit.\r\n",
      "# Revi jääsalaatti ja korianteri vadille. Halkaise kurkku pitkittäin. Kaavi halutessasi siemenet pois lusikalla ja leikkaa paksuiksi viipaleiksi. Mausta kurkku riisiviinietikalla, sokerilla ja suolalla. Sekoita kurkut salaatin joukkoon ja valuta salaatille oliiviöljyä.\r\n",
      "# Halkaise avokado, poista kuori ja kivi. Viipaloi hedelmäliha.\r\n",
      "# Nosta salaatin pinnalle viipaloidut broilerit ja avokadot. Ripottele broilereille seesaminsiemeniä ja koristele salaatti kevätsipulilla.\n",
      "https://k-file-storage-qa.imgix.net/f/k-ruoka/recipe/10472?w=1000&h=1000&fit=clip\n"
     ]
    }
   ],
   "source": [
    "print(a)\n",
    "print(b)\n",
    "print(c) \n",
    "print(d)"
   ]
  },
  {
   "cell_type": "code",
   "execution_count": null,
   "metadata": {},
   "outputs": [],
   "source": []
  }
 ],
 "metadata": {
  "kernelspec": {
   "display_name": "Python 3",
   "language": "python",
   "name": "python3"
  },
  "language_info": {
   "codemirror_mode": {
    "name": "ipython",
    "version": 3
   },
   "file_extension": ".py",
   "mimetype": "text/x-python",
   "name": "python",
   "nbconvert_exporter": "python",
   "pygments_lexer": "ipython3",
   "version": "3.6.7"
  }
 },
 "nbformat": 4,
 "nbformat_minor": 2
}
